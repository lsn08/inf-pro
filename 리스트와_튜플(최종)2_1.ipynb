{
  "nbformat": 4,
  "nbformat_minor": 0,
  "metadata": {
    "colab": {
      "provenance": [],
      "toc_visible": true,
      "include_colab_link": true
    },
    "kernelspec": {
      "name": "python3",
      "display_name": "Python 3"
    },
    "language_info": {
      "name": "python"
    }
  },
  "cells": [
    {
      "cell_type": "markdown",
      "metadata": {
        "id": "view-in-github",
        "colab_type": "text"
      },
      "source": [
        "<a href=\"https://colab.research.google.com/github/lsn08/inf-pro/blob/master/%EB%A6%AC%EC%8A%A4%ED%8A%B8%EC%99%80_%ED%8A%9C%ED%94%8C(%EC%B5%9C%EC%A2%85)2_1.ipynb\" target=\"_parent\"><img src=\"https://colab.research.google.com/assets/colab-badge.svg\" alt=\"Open In Colab\"/></a>"
      ]
    },
    {
      "cell_type": "markdown",
      "source": [
        "# 1.구글 코렙(Colab)이란?\n",
        "* 구글에서 제공하는 클라우드 기반의 파이썬 코딩 환경\n",
        "* 설치가 필요없이 인터넷 브라우저에서 바로 실행 가능\n",
        "* 구글 드라이브와 연동되어 파일 저장 및 관리가 용이\n",
        "* 작업 내용은 자동 저장되지만, 완전한 실시간은 아니므로 Ctrl+S로 수동 저장 후 종료하는 것이 안전\n",
        "* 다른 사람이 공유한 노트북은 [내 드라이브에 사본저장] 후 수정 가\n",
        "## 장점\n",
        "  * GPU, TPU 무료 제공 : 딥러닝/머신러닝 모델 학습에 적합\n",
        "  * 공유와 협업이 쉬움 : 구글 문서처럼 링크 공유만으로 협업 가능\n",
        "  * 시각화에 강함 : 그래프, 이미지 출력을 코드 셀 바로 아래에서 확인 가\n",
        "  * 다양한 라이브러리 기본 내장 : pandas, matplotlib, seaborn, tensorflow 등\n",
        "\n",
        "# 2. 셀의 종류\n",
        "* <font color=\"blue\">***코드 셀***</font> : 파이썬 코드 명령어를 실행할 수 있는 셀\n",
        "* <font color=\"blue\">***텍스트 셀***</font> : 설명을 달거나 문구 등을 적기 위한 텍스트 전용 셀(마크다운 문법 활용)\n",
        "* 특정 셀에서 정의한 변수를 나중에 다른 셀에서 사용할 수 있음   \n",
        "  → 셀간의 실행 순서가 꼬여서 에러가 날 수 있으므로 [런타임]-[세션 다시 시작 및 모두 실행]\n",
        "* print 함수 없이도 셀 맨 아래줄 코드가 알아서 출력됨"
      ],
      "metadata": {
        "id": "9S0U2MYUXA-B"
      }
    },
    {
      "cell_type": "code",
      "source": [
        "# 숫자 리스트 만들기\n",
        "numbers = [1, 2, 3]\n",
        "numbers"
      ],
      "metadata": {
        "id": "XrO3DCvOiGJq"
      },
      "execution_count": null,
      "outputs": []
    },
    {
      "cell_type": "markdown",
      "source": [
        "# 2.H1 참고: 마크다운(Markdown) 문법\n",
        "## H2 참고: 마크다운(Markdown) 문법\n",
        "### H3 참고: 마크다운(Markdown) 문법\n",
        "#### H4 참고: 마크다운(Markdown) 문법\n",
        "##### H5 참고: 마크다운(Markdown) 문법\n",
        "###### H6 참고: 마크다운(Markdown) 문법\n",
        "\n",
        "구글코랩, jupyter notebook, Notion 등 마크다운 문법을 지원하는 경우, 이를 잘 이용하면 깔끔한 문서를 만들 수 있음\n",
        "\n",
        "\n",
        "\n",
        "\n",
        "\n",
        "\n",
        "\n",
        "\n",
        "###  제목\n",
        "- *기울임*  또는 _기울임_\n",
        "- **굵게** 또는 __굵게__\n",
        "- ***굵고 기울임***\n",
        "    - 들여쓰기(공백 4칸)\n",
        "\n",
        "\n",
        "\n",
        "\n",
        "- `a = 10` : 코드 일부를 문장 안에서 강조할 때 사용\n",
        "\n",
        "```python\n",
        "  # 여러 줄 코드 블럭(백틱 3개 사용)\n",
        "  def add(a, b):\n",
        "    return a + b\n",
        "\n",
        "  result = add(3, 5)\n",
        "  print(result)\n",
        "```\n",
        "\n",
        "- 목록 depth 주기,  tab으로 들여쓰기\n",
        "\n",
        "\n",
        "\n",
        "\n",
        "\n",
        "\n",
        "\n",
        "### 순서 있는 목록\n",
        "1. 첫 번째\n",
        "2. 두 번째\n",
        "\n",
        "### 순서 없는 목록\n",
        " - 항목1\n",
        " - 항목2\n",
        "  - 하위 항목\n",
        "    - 더 깊은 항목\n",
        "\n",
        "\n",
        "\n",
        "\n",
        "\n",
        "\n",
        "### 링크\n",
        "[전북과학고](https://school.jbedu.kr/ejbs)\n",
        "\n",
        "### 수식\n",
        "수식을 작성하려면 $기호를 사용하여 수식을 감쌉니다.\n",
        "  \n",
        "  $\\sqrt{3x-1}+(1+x)^2$   \n",
        "\n",
        "### 줄바꿈하기\n",
        "줄 바꿈하려면 문장 끝 (SPACE 3개 이상 넣어줘야 함 + enter)   \n",
        "그래야 줄바꿈됩니다.\n",
        "\n",
        "이렇게 하면 줄바꿈 안돼요.(SPACE 입력없이 +Enter만 입력)\n",
        "줄바꿈 안돼요"
      ],
      "metadata": {
        "id": "bMzJyxDHjyST"
      }
    },
    {
      "cell_type": "markdown",
      "source": [
        "# 3.구글 코렙 단축기\n",
        ">## 1) 셀의 실행 : ▶️버튼 클릭\n",
        "* Ctrl + Enter : 해당 셀을 실행하고 커서는 해당 셀에 남음\n",
        "* Shift + Ente r: 해당 셀을 실행하고 다음 셀로 넘어감\n",
        "* Alt + Enter : 해당 셀을 실행하고 바로 아래에 새로운 셀을 삽입하며 넘어감\n",
        "\n",
        ">## 2) 셀의 삽입\n",
        "* 상단 툴바의 [+코드] [+텍스트] 버튼을 눌러 삽입\n",
        "* 코드셀을 위에 삽입 : Ctrl + M + A\n",
        "* 코드셀을 아래에 삽입 : Ctrl + M + B\n",
        "\n",
        ">## 3) 셀의 종류를 변경하는 방법\n",
        "*   코드셀을 텍스트셀로 변경 : Ctrl + M + M\n",
        "*   텍스트셀을 코드셀로 변경 : Ctrl + M + Y\n",
        "\n",
        ">## 4) 셀을 삭제하는 방법\n",
        "*   셀 우측의 휴지통 아이콘을 클릭하여 삭제\n",
        "*   Ctrl + M + D\n",
        "\n",
        ">## 5) 실행을 취소하는 방법\n",
        "*   Ctrl + M + Z\n",
        "\n",
        ">## 6) 복사하여 붙여넣기\n",
        "* 셀 전체 복사해서 붙여넣기 : 셀선택 Ctrl + Shift + S → Ctrl + C → Ctrl + V\n",
        "* 코드 한 줄 복사해 붙여넣기 : Shift + Alt + ↓\n",
        "* 코드 한 줄 삭제하기 : Ctrl + Shift + K\n",
        "* 변수 일괄 선택 후 수정하기 : Ctrl + Shift + L\n",
        "\n",
        ">## 7) 코드를 주석으로, 주석을 코드로\n",
        "* Ctrl + / (슬래시)"
      ],
      "metadata": {
        "id": "KnmY2qh8eJKj"
      }
    },
    {
      "cell_type": "code",
      "source": [
        "fruits = ['apple', 'banana', 'orange']\n",
        "fruits"
      ],
      "metadata": {
        "id": "Btl5RpgfeXvu"
      },
      "execution_count": null,
      "outputs": []
    },
    {
      "cell_type": "markdown",
      "source": [
        "#4.리스트란?\n",
        "* 가장 많이 쓰이는 자료형 중 하나로\n",
        "* 여러 개의 값을 <font color=\"blue\">순서대로 저장할 수 있는 가변형 시퀀스</font> 자료구조\n",
        "\n",
        "## 리스트의 특징\n",
        "* 여러 개의 값을 하나의 변수에 저장\n",
        "* 대괄호 []로 만들고, 값(=항목, 요소)들을 쉼표 ,로 구분\n",
        "* 인덱스를 통해 개별 값에 접근 가능\n",
        "* 가변형(Mutable) : 값 수정/삭제/추가 가능\n",
        "\n"
      ],
      "metadata": {
        "id": "Ne8GEOt0vKGT"
      }
    },
    {
      "cell_type": "markdown",
      "source": [
        "# 5.리스트 생성방법"
      ],
      "metadata": {
        "id": "dsrdZEBB8cE3"
      }
    },
    {
      "cell_type": "code",
      "source": [
        "# 대괄호 []로 직접 값 넣기 (기본)\n",
        "numbers = [1, 2, 3]\n",
        "numbers"
      ],
      "metadata": {
        "id": "MjfKWwRuvy7p"
      },
      "execution_count": null,
      "outputs": []
    },
    {
      "cell_type": "code",
      "source": [
        "# list() 함수 사용\n",
        "chars = list(\"hello\")\n",
        "chars"
      ],
      "metadata": {
        "id": "KxRA7uD6v-Bm"
      },
      "execution_count": null,
      "outputs": []
    },
    {
      "cell_type": "code",
      "source": [
        "# 빈 리스트 만들기\n",
        "a = []\n",
        "b = list()\n",
        "print(a, b)"
      ],
      "metadata": {
        "id": "RF0fBFHzwKqV"
      },
      "execution_count": null,
      "outputs": []
    },
    {
      "cell_type": "code",
      "source": [
        "# append() 사용\n",
        "a.append(4)\n",
        "a"
      ],
      "metadata": {
        "id": "oSkVAb94wSQ9"
      },
      "execution_count": null,
      "outputs": []
    },
    {
      "cell_type": "code",
      "source": [
        "# + 연산자 이용\n",
        "fruits = fruits + ['melon']\n",
        "fruits"
      ],
      "metadata": {
        "id": "ZphpRcW9wZZt"
      },
      "execution_count": null,
      "outputs": []
    },
    {
      "cell_type": "code",
      "source": [
        "# range() 함수 사용\n",
        "my_list=list(range(5))\n",
        "my_list=list(range(0,5))\n",
        "my_list=list(range(0,5,1))\n",
        "my_list"
      ],
      "metadata": {
        "id": "yr9Dl_gRwvD9"
      },
      "execution_count": null,
      "outputs": []
    },
    {
      "cell_type": "code",
      "source": [
        "# 반복문과 append() 사용\n",
        "numbers = []\n",
        "for i in range(1, 5):\n",
        "  numbers.append(i**2)\n",
        "print(numbers)  # [1, 4, 9, 16]"
      ],
      "metadata": {
        "id": "a19iKwVOw_8l"
      },
      "execution_count": null,
      "outputs": []
    },
    {
      "cell_type": "markdown",
      "source": [
        "#6.리스트 연산자"
      ],
      "metadata": {
        "id": "6XzDZEkdyxuG"
      }
    },
    {
      "cell_type": "code",
      "source": [
        "# 리스트 이어붙이기 (덧셈 연산)\n",
        "a = [1, 2]\n",
        "b = [3, 4]\n",
        "c = a + b\n",
        "c"
      ],
      "metadata": {
        "id": "1V0LLS_mzCfW"
      },
      "execution_count": null,
      "outputs": []
    },
    {
      "cell_type": "code",
      "source": [
        "# 리스트 반복하기 (곱셈 연산)\n",
        "d = a * 3\n",
        "d"
      ],
      "metadata": {
        "id": "ppOdNPxP05uk"
      },
      "execution_count": null,
      "outputs": []
    },
    {
      "cell_type": "code",
      "source": [
        "# 포함 여부 확인: in\n",
        "3 in [1, 2, 3, 4]"
      ],
      "metadata": {
        "id": "KihHZPA91NEM"
      },
      "execution_count": null,
      "outputs": []
    },
    {
      "cell_type": "code",
      "source": [
        "# 포함되어 있지 않은지 확인: not in\n",
        "5 not in [1, 2, 3, 4]"
      ],
      "metadata": {
        "id": "6VeJbbGY1oac"
      },
      "execution_count": null,
      "outputs": []
    },
    {
      "cell_type": "markdown",
      "source": [
        "#7.내장 함수\n",
        "* <font color=\"blue\">len(list)</font> : 리스트의 길이(항목 개수)를 반환\n",
        "* <font color=\"blue\">max(list)</font> : 리스트에서 가장 큰 값을 반환\n",
        "* <font color=\"blue\">min(list)</font> : 리스트에서 가장 작은 값을 반환\n",
        "* <font color=\"blue\">sum(list)</font> : 리스트에 있는 모든 항목의 합을 반환(숫자만 가능)\n",
        "* <font color=\"blue\">sorted(list)</font> : 정렬된 새 리스트 반환 (원본 변경 X)\n",
        "* <font color=\"blue\">all(list)</font> : 리스트의 모든 항목이 참인지 확인(하나라도 거짓이면 False를 반환), 0과 ‘’(공백 문자열)은 False로 간주\n",
        "* <font color=\"blue\">any(list)</font> : 리스트의 항목 중 하나라도 참이면 True를 반환\n",
        "* <font color=\"blue\">list(iterable)</font> : 튜플 등 다른 자료형을 리스트로 변환\n",
        "* <font color=\"blue\">reversed(list)</font> : 반복 가능한 객체를 뒤집어서 반복자를 반환"
      ],
      "metadata": {
        "id": "SOwQH_LX14Jd"
      }
    },
    {
      "cell_type": "code",
      "source": [
        "a_list = [10, 20, 30]\n",
        "b_list = [0, 10 ,20, 30]\n",
        "c_list = [0, '']\n",
        "all(a_list), all(b_list), all(c_list)"
      ],
      "metadata": {
        "id": "Sb2ogS8TEksd"
      },
      "execution_count": null,
      "outputs": []
    },
    {
      "cell_type": "code",
      "source": [
        "any(a_list), any(b_list), any(c_list)"
      ],
      "metadata": {
        "id": "kpyCkgNeE7tR"
      },
      "execution_count": null,
      "outputs": []
    },
    {
      "cell_type": "markdown",
      "source": [
        "#8.리스트 기본 메서드(교재 192 페이지)"
      ],
      "metadata": {
        "id": "zchudgaC1ti0"
      }
    },
    {
      "cell_type": "code",
      "source": [
        "# append() :  리스트 맨 끝에 새로운 요소를 하나 추가\n",
        "my_list = [1, 2, 3]\n",
        "my_list.append(4)\n",
        "my_list"
      ],
      "metadata": {
        "id": "_A3PUiyd3yhP"
      },
      "execution_count": null,
      "outputs": []
    },
    {
      "cell_type": "code",
      "source": [
        "# insert() : 리스트의 특정 위치에 항목 추가\n",
        "my_list.insert(1, 100) # 1번 인덱스에 100을 추가\n",
        "my_list"
      ],
      "metadata": {
        "id": "jxz0_kJf4MTc"
      },
      "execution_count": null,
      "outputs": []
    },
    {
      "cell_type": "code",
      "source": [
        "# extend() :  리스트에 또 다른 리스트나 여러 값을 한꺼번에 뒤에 추가\n",
        "my_list.extend([100, 200, 300])\n",
        "my_list"
      ],
      "metadata": {
        "id": "Fs83fAjp4xiD"
      },
      "execution_count": null,
      "outputs": []
    },
    {
      "cell_type": "code",
      "source": [
        "# remove() : 리스트명.remove(특정 값)\n",
        "# 리스트에서 특정 값을 찾아서 제거 (단, 첫 번째로 나오는 것만)\n",
        "my_list.remove(100)\n",
        "my_list"
      ],
      "metadata": {
        "id": "ADSxKwDe46Js"
      },
      "execution_count": null,
      "outputs": []
    },
    {
      "cell_type": "code",
      "source": [
        "# pop() : 리스트명.pop() 또는 리스트명.pop(i)\n",
        "# 리스트에서 마지막 요소나, 특정 위치(i)의 요소를 꺼내서 삭제\n",
        "my_list.pop()\n",
        "my_list.pop(3)"
      ],
      "metadata": {
        "id": "BwWBg1ZW5tdM"
      },
      "execution_count": null,
      "outputs": []
    },
    {
      "cell_type": "code",
      "source": [
        "# 마지막 요소를 꺼내고 남은 요소\n",
        "my_list"
      ],
      "metadata": {
        "id": "VGzCIkN_5tR-"
      },
      "execution_count": null,
      "outputs": []
    },
    {
      "cell_type": "code",
      "source": [
        "# clear() : 리스트명.clear()\n",
        "# 리스트 안을 전부 비워서 빈 리스트로 만듦\n",
        "my_list.clear()\n",
        "my_list"
      ],
      "metadata": {
        "id": "M1mWSQzL6SKb"
      },
      "execution_count": null,
      "outputs": []
    },
    {
      "cell_type": "code",
      "source": [
        "# index() : 리스트명.index(찾고싶은값,시작위치)\n",
        "# 리스트에서 어떤 값이 몇 번째에 있는지 그 인덱스를 알려줌 (값이 없으면 에러 발생)\n",
        "my_list = [1, 2, 3, 4, 3, 2, 1]\n",
        "my_list.index(2)\n",
        "my_list.index(2, 5)"
      ],
      "metadata": {
        "id": "-BA1ow2S6SAa"
      },
      "execution_count": null,
      "outputs": []
    },
    {
      "cell_type": "code",
      "source": [
        "# count() : 리스트명.count(찾고싶은값)\n",
        "# 리스트 안에 어떤 값이 몇 번 등장하는지 알려줌\n",
        "my_list.count(2)"
      ],
      "metadata": {
        "id": "_GbzQuR-6sXi"
      },
      "execution_count": null,
      "outputs": []
    },
    {
      "cell_type": "code",
      "source": [
        "# sorted() 함수 : sorted(리스트명, reverse=True)\n",
        "# 정렬된 새 리스트 반환 (원본 변경 X)\n",
        "my_list = [1, 2, 3, 4, 5, 6, 1]\n",
        "sorted(my_list)\n",
        "# sorted(my_list, reverse=True)\n",
        "# my_list"
      ],
      "metadata": {
        "id": "ITQ_VDiOAgph"
      },
      "execution_count": null,
      "outputs": []
    },
    {
      "cell_type": "code",
      "source": [
        "my_list"
      ],
      "metadata": {
        "id": "4IlqRoaXAqEh"
      },
      "execution_count": null,
      "outputs": []
    },
    {
      "cell_type": "code",
      "source": [
        "# sort() 메서드 : 리스트명.sort( ), 리스트명.sort(reverse=True)\n",
        "# 리스트 안의 값들을 순서대로 정렬(원본 수정됨) 기본은 오름차순\n",
        "my_list.sort()\n",
        "my_list.sort(reverse=True)\n",
        "my_list"
      ],
      "metadata": {
        "id": "TMvixxH57iwi"
      },
      "execution_count": null,
      "outputs": []
    },
    {
      "cell_type": "code",
      "source": [
        "# reversed(list) 함수\n",
        "# 정렬없이 반복 가능한 객체를 뒤집어서 반복자를 반환(원본 변경 X)\n",
        "my_list = [1, 2, 3, 4, 5, 6, 1]\n",
        "list(reversed(my_list))"
      ],
      "metadata": {
        "id": "9zlmnQ47BM2B"
      },
      "execution_count": null,
      "outputs": []
    },
    {
      "cell_type": "code",
      "source": [
        "my_list"
      ],
      "metadata": {
        "id": "jPy7akkjCQeL"
      },
      "execution_count": null,
      "outputs": []
    },
    {
      "cell_type": "code",
      "source": [
        "# reverse() : 리스트명.reverse() 메서드\n",
        "# 정렬없이 지금 있는 순서를 반대로 바꿔줌(원본 수정됨)\n",
        "my_list.reverse()\n",
        "my_list"
      ],
      "metadata": {
        "id": "g4U5rHXYA-fq"
      },
      "execution_count": null,
      "outputs": []
    },
    {
      "cell_type": "code",
      "source": [
        "# copy() : new리스트명 = 리스트명.copy()\n",
        "# 리스트를 그대로 복사해서 새 리스트를 만듦(독립적인 리스트 생성)\n",
        "# (비교) a = b는 같은 리스트를 공유하는 것\n",
        "# 2차원 이상의 리스트 복사에는 deepcopy() 필요\n",
        "my_list = [1, 2, 3, 4, 5, 6, 1]\n",
        "new_list = my_list.copy()\n",
        "a = my_list\n",
        "new_list"
      ],
      "metadata": {
        "id": "sgXcFcR1CgT7"
      },
      "execution_count": null,
      "outputs": []
    },
    {
      "cell_type": "code",
      "source": [
        "my_list.append(10)\n",
        "my_list"
      ],
      "metadata": {
        "id": "hiI_43giDOOA"
      },
      "execution_count": null,
      "outputs": []
    },
    {
      "cell_type": "code",
      "source": [
        "new_list"
      ],
      "metadata": {
        "id": "XMp5i9J1DXFg"
      },
      "execution_count": null,
      "outputs": []
    },
    {
      "cell_type": "code",
      "source": [
        "a"
      ],
      "metadata": {
        "id": "HhoBxK-9DZqI"
      },
      "execution_count": null,
      "outputs": []
    },
    {
      "cell_type": "markdown",
      "source": [
        "#9.연습문제(내장 함수 및 리스트 메서드)\n",
        "아래 문제들을 읽고, 파이썬 코드를 직접 작성하여 실행해 보세요.   \n",
        "1. 다음 리스트의 길이를 출력하세요.   nums = [10, 20, 30, 40]\n",
        "2. 아래 리스트에서 가장 큰 수와 가장 작은 수를 출력하세요.   scores = [85, 90, 77, 98, 66]\n",
        "3. 다음 리스트의 총합을 구하세요.   prices = [1200, 1500, 990, 1800]\n",
        "4. 리스트의 요소들을 오름차순으로 정렬된 새 리스트로 만들어 출력하세요. (원본은 변경하지 마세요)   numbers = [9, 2, 7, 1, 6]\n",
        "5. 아래 리스트에 0이 포함되어 있는지 확인하여 True 또는 False를 출력하세요.   values = [1, 2, 3, 0]\n",
        "6. 아래 리스트에 숫자 5를 마지막에 추가한 뒤 출력하세요.   nums = [1, 2, 3, 4]\n",
        "7. 아래 리스트의 2번 인덱스에 'apple'을 추가한 후 출력하세요.   fruits = ['banana', 'orange', 'grape']\n",
        "8. 다음 리스트에 [10, 20]을 한꺼번에 추가하여 출력하세요.   data = [1, 2, 3]\n",
        "9. 아래 리스트에서 첫 번째로 등장하는 'banana'를 제거하고 출력하세요.   fruits = ['apple', 'banana', 'cherry', 'banana']\n",
        "10. 다음 리스트에서 마지막 요소를 꺼내고, 꺼낸 값과 남은 리스트를 각각 출력하세요.    items = [5, 10, 15, 20]\n",
        "11. 다음 리스트를 비워서 빈 리스트로 만드세요.    words = ['hello', 'world', 'python']\n",
        "12. 다음 리스트에서 'cat'은 몇 번 등장하는지 출력하세요.    animals = ['dog', 'cat', 'cat', 'bird', 'cat']\n",
        "13. 아래 리스트에서 숫자 30이 몇 번째 인덱스에 있는지 구하세요.    scores = [10, 20, 30, 40, 50]\n",
        "14. 아래 리스트를 내림차순으로 정렬한 후 출력하세요.    nums = [5, 2, 9, 1, 7]\n",
        "15. 아래 리스트의 순서를 단순히 거꾸로 바꾼 후 출력하세요. (정렬은 하지 말기)    letters = ['a', 'b', 'c', 'd']\n",
        "16. 다음 리스트를 복사하여 새로운 리스트 b에 저장하고, b의 첫 번째 값을 100으로 바꾼 뒤 a와 b를 비교 출력하세요.    a = [1, 2, 3]\n",
        "17. 아래 리스트를 b = a로 복사하고, b[0] = 100으로 바꾼 뒤 a와 b를 출력하세요. 어떤 차이가 있나요?    a = [1, 2, 3]\n",
        "18. 다음 2차원 리스트를 얕은 복사한 후, 내부 리스트의 값을 변경해보세요. 원본에 영향이 가는지 확인하세요.    a = [[1, 2], [3, 4]], b[0][0] = 100\n",
        "19. 위 문제에서 copy.deepcopy()를 사용해 깊은 복사를 한 후 내부 값을 바꾸어보고, 원본에 영향을 주는지 확인하세요.\n",
        "20. 문자열 'Hello'를 리스트로 바꿔서 각 문자를 요소로 가진 리스트를 출력하세요.    text = 'Hello'"
      ],
      "metadata": {
        "id": "-qW7OXpJ-TEe"
      }
    },
    {
      "cell_type": "markdown",
      "source": [
        "#교재 188 페이지  \n",
        "### * 포함 여부 확인: in 연산자\n",
        "\n",
        "<img src=\"https://drive.google.com/uc?id=1BgYBu6Vs34vQ7xr5TGM5_nFSFpVxnrPS\" width = 800>"
      ],
      "metadata": {
        "id": "0fZyVvccBgPv"
      }
    },
    {
      "cell_type": "code",
      "source": [
        "fruits = []\n",
        "\n",
        "name = input('좋아하는 과일의 이름을 입력하시오: ')\n",
        "fruits.append(name)\n",
        "name = input('좋아하는 과일의 이름을 입력하시오: ')\n",
        "fruits.append(name)\n",
        "name = input('좋아하는 과일의 이름을 입력하시오: ')\n",
        "fruits.append(name)\n",
        "\n",
        "name = input('과일의 이름을 입력하시오: ')\n",
        "if name in fruits:\n",
        "  print('이 과일은 당신이 좋아하는 과일입니다.')\n",
        "else:\n",
        "  print('이 과일은 당신이 좋아하는 과일이 아닙니다.')"
      ],
      "metadata": {
        "id": "0wLJ169rJuA1"
      },
      "execution_count": null,
      "outputs": []
    },
    {
      "cell_type": "markdown",
      "source": [
        "#교재 189 페이지   \n",
        "\n",
        "<img src=\"https://drive.google.com/uc?id=1BqIYgDLRgZaBvALSoVjFXThAtRC-4KhI\" width=800>"
      ],
      "metadata": {
        "id": "XaoEiZwvDbB6"
      }
    },
    {
      "cell_type": "code",
      "source": [
        "primes = []               # 소수를 저장할 빈 리스트 생성\n",
        "\n",
        "for n in range(2, 101):   # 2부터 100까지 반복\n",
        "  is_prime = True         # 현재 수 n이 소수인지 여부를 저장할 변수(우선 소수라고 저장)\n",
        "  for num in range(2, n): # 나눌 수 : 2부터 n-1까지 나눠봄\n",
        "    if n % num == 0:      # 한번이라도 나누어 떨어지면 소수가 아님 -> False가 저장됨\n",
        "      is_prime = False\n",
        "  if is_prime:            # 소수이면 리스트에 추가\n",
        "    primes.append(n)\n",
        "\n",
        "print('2에서 100사이의 소수들 :')\n",
        "print(primes)"
      ],
      "metadata": {
        "id": "A-ilynC0JvLY"
      },
      "execution_count": null,
      "outputs": []
    },
    {
      "cell_type": "markdown",
      "source": [
        "#10.인덱싱   \n",
        "* 하나의 요소를 선택할 때 사용\n",
        "* 파이썬에서 인덱스는 0부터 시작\n",
        "* 음수 인덱스를 사용하면 뒤에서부터 접근 가능   \n",
        "\n",
        "<img src='https://drive.google.com/uc?id=1VuAYa_914e03dfZizYUT-izOYGfPFsVJ' width=500>   \n"
      ],
      "metadata": {
        "id": "lYF3s_pfv7gP"
      }
    },
    {
      "cell_type": "code",
      "source": [
        "letters = ['A', 'B', 'C', 'D', 'E', 'F']\n",
        "letters[0]\n",
        "letters[1]"
      ],
      "metadata": {
        "id": "VIjb4MfIIRwR"
      },
      "execution_count": null,
      "outputs": []
    },
    {
      "cell_type": "code",
      "source": [
        "# 리스트의 맨 끝에 있는 데이터에 접근하는 방법\n",
        "letters[-1]\n",
        "letters[5]\n",
        "letters[len(letters)-1]   # 리스트의 길이로 접근"
      ],
      "metadata": {
        "id": "9bG7RGUsDAZa"
      },
      "execution_count": null,
      "outputs": []
    },
    {
      "cell_type": "markdown",
      "source": [
        "#11.슬라이싱   \n",
        "\n",
        "* 여러 개의 요소를 한 번에 잘라서 가져올 때 사용\n",
        "* 시작 인덱스는 포함, 끝 인덱스는 포함하지 않음 (끝 - 1까지 추출)\n",
        "* 간격(스텝)은 선택사항이며, 생략하면 1이 기본값    \n",
        "\n",
        "<img src='https://drive.google.com/uc?id=1W0H6QSXcTzP6y4i90pITw7b-nBCD6Vd2' width=900>"
      ],
      "metadata": {
        "id": "C5ItmVpaLB14"
      }
    },
    {
      "cell_type": "code",
      "source": [
        "letters = ['A', 'B', 'C', 'D', 'E', 'F']\n",
        "letters[2:5]"
      ],
      "metadata": {
        "id": "Dc1BsqV-L-DW"
      },
      "execution_count": null,
      "outputs": []
    },
    {
      "cell_type": "code",
      "source": [
        "# 리스트의 처음부터 세번째 항목까지 슬라이싱(0,1,2)\n",
        "letters[:3]"
      ],
      "metadata": {
        "id": "qJhcxSreO2wf"
      },
      "execution_count": null,
      "outputs": []
    },
    {
      "cell_type": "code",
      "source": [
        "# 리스트의 네번째 항목부터 끝까지 슬라이싱(3,4,5)\n",
        "letters[3:]"
      ],
      "metadata": {
        "id": "k7ocBYLsQQr_"
      },
      "execution_count": null,
      "outputs": []
    },
    {
      "cell_type": "code",
      "source": [
        "# 리스트의 처음부터 끝까지 슬라이싱\n",
        "letters[:]"
      ],
      "metadata": {
        "id": "hs6jALOtQaUl"
      },
      "execution_count": null,
      "outputs": []
    },
    {
      "cell_type": "code",
      "source": [
        "# 리스트의 처음부터 2칸씩 건너뜀\n",
        "letters[::2]"
      ],
      "metadata": {
        "id": "OdHdVs_jRA-1"
      },
      "execution_count": null,
      "outputs": []
    },
    {
      "cell_type": "code",
      "source": [
        "# 뒤에서부터 앞으로 읽어오며 원소를 생성함\n",
        "letters[::-1]"
      ],
      "metadata": {
        "id": "hywLAU9PRQKV"
      },
      "execution_count": null,
      "outputs": []
    },
    {
      "cell_type": "markdown",
      "source": [
        "#교재 191 페이지\n",
        "numbers = [4, 5, 6, 7, 8, 9]\n",
        "<img src='https://drive.google.com/uc?id=1W9xXbUtKqLqXK2MAXsdYrCyk2zpqLXEO' width=900>"
      ],
      "metadata": {
        "id": "2RdOfRaCTOF_"
      }
    },
    {
      "cell_type": "code",
      "source": [
        "numbers = [4, 5, 6, 7, 8, 9]\n",
        "numbers[2]\n",
        "numbers[1:3]\n",
        "numbers[:3]\n",
        "numbers[0::2]\n",
        "numbers[1::2]"
      ],
      "metadata": {
        "id": "_hJvwU6KTAEm"
      },
      "execution_count": null,
      "outputs": []
    },
    {
      "cell_type": "markdown",
      "source": [
        "#12.리스트의 원소값 조작하기\n"
      ],
      "metadata": {
        "id": "ik7ybK4wWJdD"
      }
    },
    {
      "cell_type": "code",
      "source": [
        "# 원소 값 수정하기 (인덱싱 이용)\n",
        "\n",
        "my_list = [10, 20, 30, 40, 50]\n",
        "my_list[1] = 99\n",
        "my_list"
      ],
      "metadata": {
        "id": "SGpMj3zgY002"
      },
      "execution_count": null,
      "outputs": []
    },
    {
      "cell_type": "code",
      "source": [
        "# 여러 개 값 바꾸기 (슬라이싱 이용)\n",
        "\n",
        "my_list = [10, 20, 30, 40, 50]\n",
        "my_list[1:4] = [2, 3, 4]\n",
        "my_list"
      ],
      "metadata": {
        "id": "MQwUsn-KZJHc"
      },
      "execution_count": null,
      "outputs": []
    },
    {
      "cell_type": "code",
      "source": [
        "# 값 추가하기\n",
        "\n",
        "my_list = [10, 20, 30, 40, 50]\n",
        "my_list.append(4)         # 마지막에 추가\n",
        "# my_list.insert(1, 100)    # 원하는 위치에 삽입\n",
        "# my_list = my_list + [5]   # 리스트끼리 연결\n",
        "my_list"
      ],
      "metadata": {
        "id": "_kpYaI0WZn_z"
      },
      "execution_count": null,
      "outputs": []
    },
    {
      "cell_type": "code",
      "source": [
        "# 값 삭제하기_3가지 방법\n",
        "\n",
        "my_list = [10, 20, 30, 40, 50]\n",
        "del my_list[1]          # 인덱스로 삭제\n",
        "# my_list.remove(30)    # 값으로 삭제 (처음 나오는 것만)\n",
        "# my_list.pop()         # 꺼내서 삭제 (인덱스 생략 시 마지막)\n",
        "my_list"
      ],
      "metadata": {
        "id": "DRlBPkhjYNA3"
      },
      "execution_count": null,
      "outputs": []
    },
    {
      "cell_type": "code",
      "source": [
        "# 값 교환하기\n",
        "\n",
        "my_list = [10, 20, 30, 40, 50]\n",
        "my_list[0], my_list[2] = my_list[2], my_list[0]\n",
        "my_list"
      ],
      "metadata": {
        "id": "2xGdIgzbY5Wm"
      },
      "execution_count": null,
      "outputs": []
    },
    {
      "cell_type": "code",
      "source": [
        "# 리스트의 모든 항목을 한 번씩 방문하려면\n",
        "\n",
        "bts = ['V', 'J-Hope', 'Suga', 'Jungkook']\n",
        "for member in bts:\n",
        "  print(member)"
      ],
      "metadata": {
        "id": "r_gpu_0jrpMA"
      },
      "execution_count": null,
      "outputs": []
    },
    {
      "cell_type": "markdown",
      "source": [
        "#교재 193 페이지\n",
        "<img src='https://drive.google.com/uc?id=1Wmu8qbVs2QIQTnOZxJ-IHzPU0LyNh-jg' width=800>"
      ],
      "metadata": {
        "id": "gcY5dCjBpuKu"
      }
    },
    {
      "cell_type": "code",
      "source": [
        "population = ['Seoul', 9765, 'Busan', 3441, 'Incheon', 2954]\n",
        "print(f'서울 인구 : {population[1]}')\n",
        "print(f'인천 인구 : {population[-1]}')\n",
        "print(f'도시 리스트 : {population[::2]}')\n",
        "print(f'인구 리스트 : {population[1::2]}, 인구의 합 : {sum(population[1::2])}')"
      ],
      "metadata": {
        "id": "KPz9gnL6rliu"
      },
      "execution_count": null,
      "outputs": []
    },
    {
      "cell_type": "markdown",
      "source": [
        "<img src='https://drive.google.com/uc?id=1WztTZsTlMfxVj_DdjfshBGCdJtu9h5FN' width=900>"
      ],
      "metadata": {
        "id": "dJdTa_mNrzE5"
      }
    },
    {
      "cell_type": "code",
      "source": [
        "s = 'Python is fun'\n",
        "s[0]\n",
        "s[-3:]\n",
        "s[:6]\n",
        "s[7:9]"
      ],
      "metadata": {
        "id": "cy5kBruhy6Fl"
      },
      "execution_count": null,
      "outputs": []
    },
    {
      "cell_type": "markdown",
      "source": [
        "#13.문자열도 리스트의 메서드를 사용할 수 있다.(교재 197 페이지)\n"
      ],
      "metadata": {
        "id": "v5VAwg_W0V9a"
      }
    },
    {
      "cell_type": "code",
      "source": [
        "# list()함수\n",
        "\n",
        "s = 'python'\n",
        "str_list = list(s)  # 문자열 s를 리스트로 변환시키기\n",
        "str_list"
      ],
      "metadata": {
        "id": "USxRpPXi0o1x"
      },
      "execution_count": null,
      "outputs": []
    },
    {
      "cell_type": "code",
      "source": [
        "s[0]          # 첫번째 문자\n",
        "s[1]          # 두번째 문자\n",
        "s[-1]         # 마지막 문자\n",
        "s[0:2]        # 첫 두 문자열\n",
        "s[2:]         # 세번째 문자부터 끝까지\n",
        "s[-2:]        # 마지막 두 문자열\n",
        "s[-1:-3:-1]   # 마지막 두 문자열을 거꾸로 추출"
      ],
      "metadata": {
        "id": "AgwTSqev1CRz"
      },
      "execution_count": null,
      "outputs": []
    },
    {
      "cell_type": "markdown",
      "source": [
        "#14.문자열 메서드  join() 과 split()    \n",
        "## join()\n",
        "* 리스트나 튜플처럼 여러 개의 문자열이 있는 **자료형을 하나의 문자열로 합칠 때** 사용\n",
        "* 형식 : **'구분자'.join(문자열리스트)**\n",
        "* **'구분자'**는 문자열 사이에 넣고 싶은 글자 (예: 쉼표, 공백, 슬래시 등)\n",
        "* **문자열리스트**는 문자열들로만 이루어진 리스트 또는 튜플\n",
        "\n",
        "## split()\n",
        "* **문자열을** 특정 구분자를 기준으로 **나누어 리스트 생성**\n",
        "* 형식 : **문자열.split(구분자)**\n",
        "* 구분자 : 문자열을 나눌 기준(예: 공백, 쉼표, 하이픈 등)\n",
        "* 생략하면 기본값은 공백(스페이스)"
      ],
      "metadata": {
        "id": "Fpht3Ym5xWfg"
      }
    },
    {
      "cell_type": "code",
      "source": [
        "# join() 예시\n",
        "chars = ['a', 'b', 'c']\n",
        "print(''.join(chars))\n",
        "# print('-'.join(chars))"
      ],
      "metadata": {
        "id": "_b1xFt29y3NS"
      },
      "execution_count": null,
      "outputs": []
    },
    {
      "cell_type": "code",
      "source": [
        "# sorted()와 join() 활용\n",
        "# 문자열을 정렬하고 다시 합치기(문자열이 알파벳순으로 재구성됨)\n",
        "# 알파벳순 'aaabnn'\n",
        "\n",
        "s = 'banana'\n",
        "sorted_list = sorted(s)         # 정렬된 리스트로 반환됨\n",
        "sorted_list\n",
        "# result = ''.join(sorted_list)   # 리스트를 문자열로 합침\n",
        "# result"
      ],
      "metadata": {
        "id": "-PetqVDjvrYZ"
      },
      "execution_count": null,
      "outputs": []
    },
    {
      "cell_type": "code",
      "source": [
        "# split() 예시 : 공백으로 나누기\n",
        "\n",
        "text = \"hello world python\"\n",
        "words = text.split()\n",
        "words"
      ],
      "metadata": {
        "id": "ksnSD_CADwqs"
      },
      "execution_count": null,
      "outputs": []
    },
    {
      "cell_type": "code",
      "source": [
        "# split() 예시 : 쉼표로 나누기\n",
        "\n",
        "s = '23, 35, 67, 88, 1'\n",
        "num_list = s.split(',')\n",
        "num_list"
      ],
      "metadata": {
        "id": "AQhXP0OPFOaA"
      },
      "execution_count": null,
      "outputs": []
    },
    {
      "cell_type": "code",
      "source": [
        "# split() 예시 : 하이픈으로 나누기\n",
        "\n",
        "date = \"2025-04-09\"\n",
        "parts = date.split('-')\n",
        "parts"
      ],
      "metadata": {
        "id": "E5nJCfwsFl7a"
      },
      "execution_count": null,
      "outputs": []
    },
    {
      "cell_type": "markdown",
      "source": [
        "#교재 198 페이지\n",
        "<img src=' https://drive.google.com/uc?id=1CAfVBMico4W2zDI7fbcUqLWQp905eY7y' width=800>"
      ],
      "metadata": {
        "id": "iEpohZJeE0t-"
      }
    },
    {
      "cell_type": "code",
      "source": [
        "# 교재 198 페이지\n",
        "\n",
        "import random\n",
        "\n",
        "quotes = []\n",
        "quotes.append('꿈을 지녀라. 그러면 어려운 현실을 이길 수 있다.')\n",
        "quotes.append('언제나 현재에 집중할 수 있다면 행복할 것이다.')\n",
        "quotes.append('고생없이 얻을 수 있는 진실로 귀중한 것은 하나도 없다.')\n",
        "quotes.append('사람은 사랑할 때 누구나 시인이 된다.')\n",
        "quotes.append('시작이 반이다.')\n",
        "\n",
        "print('#'*30)\n",
        "print('#        오늘의 명언         #')\n",
        "print('#'*30)\n",
        "print()\n",
        "dailyQuote = random.choice(quotes)\n",
        "print(dailyQuote)"
      ],
      "metadata": {
        "id": "COtwVEzxGocS"
      },
      "execution_count": null,
      "outputs": []
    },
    {
      "cell_type": "markdown",
      "source": [
        "<img src='https://drive.google.com/uc?id=1CCpfuUnaLCaL4b04TS-KDLYggA-EdKg1' width=800>\n",
        "\n",
        "## eval() 함수\n",
        "* 문자열 형태로 되어 있는 표현식을 실제로 실행하거나 계산해주는 파이썬 내장 함수\n",
        "* 문자열을 코드처럼 실행\n",
        "* 외부 입력을 그대로 실행하기 때문에 보안상 위험\n",
        "* 사용자 입력을 그대로 넣으면 악성 코드 실행 가능성 있음\n",
        "```python\n",
        "user_input = input(\"수식을 입력하세요: \")   # 예: 100/5 + 6\n",
        "print(\"결과:\", eval(user_input))\n",
        "```\n"
      ],
      "metadata": {
        "id": "gzzj7Cx7I6C8"
      }
    },
    {
      "cell_type": "code",
      "source": [
        "import random\n",
        "\n",
        "# 1. 산수 문제를 문자열 형태로 리스트에 저장\n",
        "questions = [       # 대괄호([]), 소괄호(()), 중괄호({}) 안에 있는 내용은 줄을 나누거나 들여쓰기 가능\n",
        "    '100 + 200',\n",
        "    '50 * 4',\n",
        "    '300 - 120',\n",
        "    '400 / 20',\n",
        "    '2 ** 5',\n",
        "    '1000 // 3',\n",
        "    '150 % 7',\n",
        "    '25 + 75',\n",
        "    '90 - 45',\n",
        "    '10 * 10']\n",
        "\n",
        "# 2. 랜덤하게 하나 선택\n",
        "selected_question = random.choice(questions)\n",
        "\n",
        "# 3. 선택된 문제 출력\n",
        "print(\"문제:\", selected_question)\n",
        "\n",
        "# 4. eval()을 사용하여 계산 후 결과 출력\n",
        "# eval() : 문자열을 파이썬 코드처럼 실행해주는 함수\n",
        "print(\"결과:\", eval(selected_question))"
      ],
      "metadata": {
        "id": "rzzfKqMCJp-p"
      },
      "execution_count": null,
      "outputs": []
    },
    {
      "cell_type": "markdown",
      "source": [
        "# <font color='deeppink'>2학년1반 여기까지..."
      ],
      "metadata": {
        "id": "8KzXkEUEwqfn"
      }
    },
    {
      "cell_type": "markdown",
      "source": [
        "#교재 199 페이지\n",
        "<img src='https://drive.google.com/uc?id=1CERz6zENpM9uzZcGWdL8JipJxzps1K5H' width=800>"
      ],
      "metadata": {
        "id": "SrY57JufS5LM"
      }
    },
    {
      "cell_type": "code",
      "source": [
        "city_info = [('서울', 9765), ('부산', 3441), ('인천', 2954),\n",
        "             ('광주', 1501), ('대전', 1531)]\n",
        "max_pop = 0               # 최대 인구수를 저장할 변수 (초기값: 0으로 시작)\n",
        "min_pop = 9999999999      # 최소 인구수를 저장할 변수 (초기값: 아주 큰 수)\n",
        "total_pop = 0             # 총 인구수를 누적해서 저장할 변수\n",
        "\n",
        "max_city = None           # 최대 인구 도시의 (도시명, 인구수) 튜플을 저장할 변수\n",
        "min_city = None           # 최소 인구 도시의 (도시명, 인구수) 튜플을 저장할 변수\n",
        "\n",
        "for city in city_info:\n",
        "  total_pop += city[1]    # 리스트안의 각 튜플에서 인구(city[1])를 total_pop에 누적\n",
        "\n",
        "  if city[1] > max_pop :\n",
        "    max_pop = city[1]     # 최대 인구 업데이트\n",
        "    max_city = city       # 해당 도시 이름 저장\n",
        "\n",
        "  if city[1] < min_pop :\n",
        "    min_pop = city[1]     # 최소 인구 업데이트\n",
        "    min_city = city       # 해당 도시 이름 저장\n",
        "\n",
        "print('최대인구: {0}, 인구: {1} 천명'.format(max_city[0], max_city[1]))\n",
        "print('최소인구: {0}, 인구: {1} 천명'.format(min_city[0], max_city[1]))\n",
        "print('리스트 도시 평균 인구: {0} 천명'.format(total_pop/len(city_info))) # 평균 인구 계산: 총 인구수를 도시 개수로 나눔"
      ],
      "metadata": {
        "id": "VVEeM_oZTeyR"
      },
      "execution_count": null,
      "outputs": []
    },
    {
      "cell_type": "markdown",
      "source": [
        "#최솟값, 최댓값 구하기(교재 200~201 페이지)\n",
        "* for-in 문 사용\n",
        "* sort() 메서드 사용\n",
        "* min(), max() 함수 사용"
      ],
      "metadata": {
        "id": "Xtx2P-Pimx5a"
      }
    },
    {
      "cell_type": "code",
      "source": [
        "# for-in 문 사용\n",
        "def getMinMax(mylist):\n",
        "    min_value = mylist[0]\n",
        "    max_value = mylist[0]\n",
        "    for value in mylist:\n",
        "        if value > max_value :\n",
        "            max_value = value\n",
        "        if value < min_value :\n",
        "            min_value = value\n",
        "    return max_value, min_value  # (90,27) 튜플형태 반환\n",
        "\n",
        "list_data = [82, 27, 90, 30, 87, 56]    # 데이터를 여러 개 담는 리스트 자료구조\n",
        "print(f'리스트의 원소 :\\n{list_data}')\n",
        "max_v, min_v = getMinMax(list_data)\n",
        "print(f'최댓값 : {max_v} \\n최솟값 : {min_v}')"
      ],
      "metadata": {
        "id": "25spp3A3XuUX"
      },
      "execution_count": null,
      "outputs": []
    },
    {
      "cell_type": "code",
      "source": [
        "# sort() 메서드 사용\n",
        "\n",
        "def getMinMax(mylist):\n",
        "   mylist.sort()\n",
        "   return mylist[0], mylist[-1]\n",
        "\n",
        "list_data = [82, 27, 90, 30, 87, 56]    # 데이터를 여러 개 담는 리스트 자료구조\n",
        "print(f'리스트의 원소 :\\n{list_data}')\n",
        "max_v, min_v = getMinMax(list_data)\n",
        "print(f'최댓값 : {max_v} \\n최솟값 : {min_v}')"
      ],
      "metadata": {
        "id": "f6XDxB1_tp1S"
      },
      "execution_count": null,
      "outputs": []
    },
    {
      "cell_type": "code",
      "source": [
        "# max(), min() 사용\n",
        "\n",
        "def getMinMax(mylist):\n",
        "   return max(mylist), min(mylist)\n",
        "\n",
        "list_data = [82, 27, 90, 30, 87, 56]    # 데이터를 여러 개 담는 리스트 자료구조\n",
        "print(f'리스트의 원소 :\\n{list_data}')\n",
        "max_v, min_v = getMinMax(list_data)\n",
        "print(f'최댓값 : {max_v} \\n최솟값 : {min_v}')"
      ],
      "metadata": {
        "id": "kk2F3eO9u_wE"
      },
      "execution_count": null,
      "outputs": []
    },
    {
      "cell_type": "markdown",
      "source": [
        "#15.리스트 객체의 생성과 참조라는 깊이있는 개념(교재 202~203 페이지)\n",
        "`alist = ['kim', 'Park', 'Lee', 'Hong']`    \n",
        "\n",
        "* alist라는 새로운 리스트를 만들면   \n",
        "파이썬은 컴퓨터 메모리에 리스트를 저장한 후에 **리스트의 주소를 alist 변수에 저장한다.**   \n",
        "* 즉, alist는 리스트의 모든 원소를 담고 있는 것이 아니라,   \n",
        "리스트의 원소들이 있는 곳의 저장 위치만을 가지고 있다.   \n",
        "**---> alist가 리스트 객체를 <font color=\"blue\">참조한다</font>**<br>\n",
        "* 하나의 리스트를 다른 리스트로 복사할 경우에 확실하게 나타남"
      ],
      "metadata": {
        "id": "lgFsStWPwV8s"
      }
    },
    {
      "cell_type": "code",
      "source": [
        "# 리스트 복사하기(등호 사용)\n",
        "# 등호를 사용하며 복사하면 실제 값 자체를 복사하지 않고, 리스트의 저장 위치만 복사됨\n",
        "\n",
        "alist = ['kim', 'Park', 'Lee', 'Hong']\n",
        "blist = alist\n",
        "blist[1] = 'Choi'\n",
        "alist"
      ],
      "metadata": {
        "id": "v8xvZ6TLzX3f"
      },
      "execution_count": null,
      "outputs": []
    },
    {
      "cell_type": "code",
      "source": [
        "# alist와 blist의 객체의 고유한 식별번호 알아보기\n",
        "# id() 함수는 객체의 고유 메모리 주소를 출력\n",
        "\n",
        "print(id(alist))\n",
        "print(id(blist))"
      ],
      "metadata": {
        "id": "AsgLQvORz3nJ"
      },
      "execution_count": null,
      "outputs": []
    },
    {
      "cell_type": "code",
      "source": [
        "# 리스트를 복제하여 새로운 리스트 만들기(list()함수 사용)\n",
        "# list()함수를 사용하면 원래 리스트의 복사본이 생성됨\n",
        "\n",
        "alist = ['kim', 'Park', 'Lee', 'Hong']\n",
        "clist = list(alist)\n",
        "print(id(alist))\n",
        "print(id(clist))"
      ],
      "metadata": {
        "id": "hX88EZ1D07Yy"
      },
      "execution_count": null,
      "outputs": []
    },
    {
      "cell_type": "code",
      "source": [
        "# 리스트를 복제하여 새로운 리스트 만들기(슬라이싱 표기법)\n",
        "\n",
        "alist = ['kim', 'Park', 'Lee', 'Hong']\n",
        "dlist = alist[:]\n",
        "print(id(alist))\n",
        "print(id(dlist))"
      ],
      "metadata": {
        "id": "IyZ1tgkV1i1C"
      },
      "execution_count": null,
      "outputs": []
    },
    {
      "cell_type": "code",
      "source": [
        "# 리스트를 복제하여 새로운 리스트 만들기(copy() 사용)\n",
        "\n",
        "alist = ['kim', 'Park', 'Lee', 'Hong']\n",
        "elist = alist.copy()\n",
        "print(id(alist))\n",
        "print(id(elist))"
      ],
      "metadata": {
        "id": "UHE42FtJ2B1A"
      },
      "execution_count": null,
      "outputs": []
    },
    {
      "cell_type": "markdown",
      "source": [
        "2학년2반 여기까지"
      ],
      "metadata": {
        "id": "gf2-tcix4DYo"
      }
    },
    {
      "cell_type": "markdown",
      "source": [
        "#16.리스트 함축(list comprehension) 교재 204 페이지\n",
        "* 코드를 매우 간결하게 작성하는데 아주 유용\n",
        "* 수학자들이 집합을 정의하는 것과 유사   \n",
        "<img src='https://drive.google.com/uc?id=1CJ6ndfhFLEduclSDJGO1-RF8-pvYq5aR' width=100>    \n",
        "자연수에 속하는 x에 대하여 x**2 값들이 모여서 집합을 이룸"
      ],
      "metadata": {
        "id": "zkPiPiFM8r_6"
      }
    },
    {
      "cell_type": "code",
      "source": [
        "# 리스트 [1, 2, 3, 4, 5] 에 속하는 항목에 대하여 x**2를 계산하여서 이 값들로 이루어진 리스트를 생성한다.\n",
        "\n",
        "[x**2 for x in [1, 2, 3, 4 , 5]]"
      ],
      "metadata": {
        "id": "6lhMs4E7-Ah5"
      },
      "execution_count": null,
      "outputs": []
    },
    {
      "cell_type": "markdown",
      "source": [
        "* 리스트 함축을 위하여 for - in 문이 사용되며 그 출력의 결과도 리스트이므로 전체 문장을 [ ]로 감싸는 형태를 하고 있음.   \n",
        "* <font color=\"blue\">[표현식 **for** 변수 **in** 반복가능한_객체]</font><br><br>\n",
        "\n",
        "<img src='https://drive.google.com/uc?id=1CTCQ2oInaL2PZztSs4BuSlhhDLhPAQkS' width=800>   "
      ],
      "metadata": {
        "id": "TkcOinaNB5td"
      }
    },
    {
      "cell_type": "code",
      "source": [
        "# 리스트 함축 미사용\n",
        "s = []\n",
        "for x in [1, 2, 3, 4 , 5]:\n",
        "  s.append(x**2)\n",
        "s"
      ],
      "metadata": {
        "id": "Kq7RkDskCL-G"
      },
      "execution_count": null,
      "outputs": []
    },
    {
      "cell_type": "code",
      "source": [
        "# 0에서 9까지 숫자를 포함하는 리스트\n",
        "\n",
        "[x for x in range(10)]"
      ],
      "metadata": {
        "id": "7DUVOPSEDYqa"
      },
      "execution_count": null,
      "outputs": []
    },
    {
      "cell_type": "code",
      "source": [
        "# 0에서 9까지 숫자의 제곱 값\n",
        "\n",
        "[x*x for x in range(10)]"
      ],
      "metadata": {
        "id": "TUaXrV-bELLd"
      },
      "execution_count": null,
      "outputs": []
    },
    {
      "cell_type": "code",
      "source": [
        "# 문자열 각각에 대해 uppper() 메서드 적용\n",
        "\n",
        "st = 'Hello World'\n",
        "[x.upper() for x in st]"
      ],
      "metadata": {
        "id": "zE8Wy0gYEWmV"
      },
      "execution_count": null,
      "outputs": []
    },
    {
      "cell_type": "code",
      "source": [
        "# 단어의 첫 알파벳을 대문자로 전환\n",
        "a = ['welcme', 'to', 'the', 'python', 'world']\n",
        "first_a = [x[0].upper() for x in a]\n",
        "first_a"
      ],
      "metadata": {
        "id": "FNeUK8c5GMLn"
      },
      "execution_count": null,
      "outputs": []
    },
    {
      "cell_type": "markdown",
      "source": [
        "# 조건이 붙는 리스트 함축 표현\n",
        "* 시퀀스가 생성한 값에 대하여 조건을 걸어주는 필터 역할을 하는 if 사용\n",
        "* <font color=\"blue\">[표현식 **for** 변수 **in** 반복가능한_객체 **if** 조건]</font>\n",
        "* 숫자, 문자열 등 여러 자료형에 대해서 적용 가능<br><br>\n",
        "<img src='https://drive.google.com/uc?id=1CVZloPtdYxUoLvbXFibzcHVUm1WL4Jo1' width=800>"
      ],
      "metadata": {
        "id": "aKaJPU07c42h"
      }
    },
    {
      "cell_type": "code",
      "source": [
        "# 0에서 9까지의 숫자 중 짝수를 포함하는 리스트\n",
        "\n",
        "[x for x in range(10) if x % 2 == 0]"
      ],
      "metadata": {
        "id": "OubImGZDG32b"
      },
      "execution_count": null,
      "outputs": []
    },
    {
      "cell_type": "code",
      "source": [
        "# 0에서 9까지의 숫자중 짝수의 제곱값 리스트\n",
        "\n",
        "[x*x for x in range(10) if x % 2 == 0]"
      ],
      "metadata": {
        "id": "KFnab2jqcXh4"
      },
      "execution_count": null,
      "outputs": []
    },
    {
      "cell_type": "code",
      "source": [
        "# 숫자로만 되어 있는 항목들을 추출하여 새로운 리스트 생성\n",
        "\n",
        "s = ['Hello', '12345', 'World', '67890']\n",
        "numbers = [x for x in s if x.isdigit()]   # isdigit() : 숫자로만 이루어져 있는지 검사하는 문자열 메서드\n",
        "numbers"
      ],
      "metadata": {
        "id": "HX4qpbm7ekQF"
      },
      "execution_count": null,
      "outputs": []
    },
    {
      "cell_type": "code",
      "source": [
        "# 문자로만 되어 있는 항목들을 추출하여 새로운 리스트 생성\n",
        "\n",
        "s = ['Hello', '12345', 'World', '67890']\n",
        "numbers = [x for x in s if x.isalpha()]   # isalpha() : 문자로만 이루어져 있는지 검사하는 문자열 메서드\n",
        "numbers"
      ],
      "metadata": {
        "id": "sxnJ5JyvfbAL"
      },
      "execution_count": null,
      "outputs": []
    },
    {
      "cell_type": "code",
      "source": [
        "# 공백으로 구분된 여러 개의 정수를 한 줄에 입력하여, 리스트로 변환\n",
        "x = [int(x) for x in input('정수를 여러 개 입력하세요:').split()]\n",
        "x"
      ],
      "metadata": {
        "id": "Wrr24ruyf-Dt"
      },
      "execution_count": null,
      "outputs": []
    },
    {
      "cell_type": "code",
      "source": [
        "# 공백으로 구분된 여러 개의 정수를 한 줄에 입력하여, 리스트로 변환\n",
        "# 조건(x.isdight())을 만족하는 항목만 int(x) 적용\n",
        "x = [int(x) for x in input('정수를 여러 개 입력하세요:').split() if x.isdigit()]\n",
        "x"
      ],
      "metadata": {
        "id": "YdWxjMfzgqtc"
      },
      "execution_count": null,
      "outputs": []
    },
    {
      "cell_type": "markdown",
      "source": [
        "# 공백 제거 조건 필터링 연습 문제\n",
        "* 다음과 같은 문자열 리스트에서 빈 문자열 또는 공백만 있는 문자열을 제거하고 남은 값만 리스트로 출력하시오.     \n",
        "  * strip() : 문자열의 양쪽 끝에 있는 공백(스페이스, 탭, 줄바꿈 등)을 제거해주는 메서드   \n",
        "  * words = [\"hello\", \"\", \" \", \"Python\", \"  \", \"AI\"]"
      ],
      "metadata": {
        "id": "S5Ppfb5Lmhsg"
      }
    },
    {
      "cell_type": "code",
      "source": [
        "words = [\"hello\", \"\", \" \", \"Python\", \" \", \"AI\"]\n",
        "result = [x for x in words if x.strip() != \"\"]\n",
        "result"
      ],
      "metadata": {
        "id": "rL9TMQQ-m2c0"
      },
      "execution_count": null,
      "outputs": []
    },
    {
      "cell_type": "markdown",
      "source": [
        "# 삼항 연산자(조건 표현식)\n",
        "* 기본 삼항 조건식\n",
        "  * 여러 조건을 한 줄로 간결하게 처리할 수 있게 해주는 조건 표현식의 확장된 형태\n",
        "  * 형식 :  <값1> ***if*** <조건> ***else*** <값2><br>\n",
        "    <조건>이 참이면 → <값1> 사용<br>\n",
        "    <조건>이 거짓이면 → <값2> 사용\n",
        "  <br>\n",
        "  * 예시\n",
        "```python\n",
        "age = 18\n",
        "status = \"성인\" if age >= 18 else \"청소년\"\n",
        "```\n",
        "* 중첩 삼항 조건식 : 삼항 조건식을 또 다른 삼항 조건식 안에 넣은 것\n",
        "    * 형식 : <값1> ***if*** <조건1> ***else*** <값2> ***if*** <조건2> ***else*** <값3>   \n",
        "    * 먼저 <조건1>을 검사<br>\n",
        "      참이면 → <값1><br>\n",
        "      <조건1>이 거짓일 경우 <조건2> 검사<br>\n",
        "      참이면 → <값2><br>\n",
        "      조건1과 조건2 모두 거짓이면 → <값3>"
      ],
      "metadata": {
        "id": "uEZXrwLzr2dS"
      }
    },
    {
      "cell_type": "markdown",
      "source": [
        "* <문제>   \n",
        "문자열이 숫자로 시작하면 \"숫자\", 알파벳으로 시작하면 \"문자\", 그 외는 \"기타\"로 구분하여 리스트를 만드시오   \n",
        "  * data = ['123abc', 'hello', '@error']"
      ],
      "metadata": {
        "id": "NTWqxc3trg7k"
      }
    },
    {
      "cell_type": "code",
      "source": [
        "data =  ['123abc', 'hello', '@error']\n",
        "result = [\n",
        "    '숫자' if x[0].isdigit()\n",
        "    else '문자' if x[0].isalpha()\n",
        "    else '기타' for x in data\n",
        "    ]\n",
        "result"
      ],
      "metadata": {
        "id": "EEbLHJi1r02H"
      },
      "execution_count": null,
      "outputs": []
    },
    {
      "cell_type": "markdown",
      "source": [
        "# 삼항 연산자, 필터 조건\n",
        "* 삼항 연산자\n",
        "  * [A if 조건 else B for 변수 in 시퀀스]\n",
        "  * 조건에 따라 A 또는 B 생성\n",
        "* 필터 조건 사용\n",
        "  * [A for 변수 in 시퀀스 if 조건]\n",
        "  * 조건에 맞는 항목만 남김"
      ],
      "metadata": {
        "id": "ryAacjdLv5UD"
      }
    },
    {
      "cell_type": "markdown",
      "source": [
        "#중첩된 for문을 이용한 리스트 컴프리헨션"
      ],
      "metadata": {
        "id": "3P5KS853hKT0"
      }
    },
    {
      "cell_type": "code",
      "source": [
        "# x와 y을 사용하여 다른 리스트의 항목을 가져와서 튜플로 새로운 리스트 생성\n",
        "# 모든 조합 생성\n",
        "\n",
        "[(x, y) for x in [1, 2, 3] for y in [3, 1, 4]]"
      ],
      "metadata": {
        "id": "UvXDvrT0hI4_"
      },
      "execution_count": null,
      "outputs": []
    },
    {
      "cell_type": "code",
      "source": [
        "# x와 y을 사용하여 다른 리스트의 항목을 가져와서 튜플로 새로운 리스트 생성\n",
        "# x원소와 y원소가 같은 경우 제외\n",
        "\n",
        "[(x, y) for x in [1, 2, 3] for y in [3, 1, 4] if x != y]"
      ],
      "metadata": {
        "id": "N2EdXhiFi7bv"
      },
      "execution_count": null,
      "outputs": []
    },
    {
      "cell_type": "markdown",
      "source": [
        "# 17.튜플\n",
        "* 한번 생성하면 그 값을 고칠 수 없는 자료형\n",
        "* 리스트와 아주 유사함\n",
        "* 장점 : 구조가 단순하고 리스트에 비하여 접근 속도가 빠름\n",
        "* 불변 속성 객체이므로 내부 항목 변경 불가\n",
        "* 시퀀스의 일종이므로 인덱싱과 슬라이싱 가능\n",
        "* 결합 연산자(+)와 반복 연산자(*) 사용 가능\n",
        "* 함수는 여러 개의 값을 반환할 때, 자동으로 튜플 형태로 반환한다.  \n",
        "\n",
        "<img src='https://drive.google.com/uc?id=1CZ0v_4c9nWSYplFf-Ck4GQDnUsVgA1mz' width=900>"
      ],
      "metadata": {
        "id": "i5GMy0RUu6wH"
      }
    },
    {
      "cell_type": "code",
      "source": [
        "# 튜플 생성\n",
        "color = ('red', 'green', 'blue')\n",
        "print(color)\n",
        "print(type(color))"
      ],
      "metadata": {
        "id": "zq0mGmU3v7yl"
      },
      "execution_count": null,
      "outputs": []
    },
    {
      "cell_type": "code",
      "source": [
        "# 불변 속성 객체이므로 내부 항목 변경 불가\n",
        "numbers = (1, 2, 3, 4, 5)\n",
        "numbers[0] = 100"
      ],
      "metadata": {
        "id": "Vtjzb1LXwPpH"
      },
      "execution_count": null,
      "outputs": []
    },
    {
      "cell_type": "code",
      "source": [
        "# 인덱싱과 슬라이싱 가능\n",
        "numbers = (1, 2, 3, 4, 5)\n",
        "numbers[0]\n",
        "numbers[1:4]"
      ],
      "metadata": {
        "id": "yNbKsUqCwn2A"
      },
      "execution_count": null,
      "outputs": []
    },
    {
      "cell_type": "code",
      "source": [
        "# 결합 연산자(+)와 반복 연산자(*)\n",
        "color_numbers = color + numbers\n",
        "color_2 = color * 2\n",
        "print(color_numbers)\n",
        "print(type(color_numbers))\n",
        "print(color_2)\n",
        "print(type(color_2))"
      ],
      "metadata": {
        "id": "jMf_DDyaw23y"
      },
      "execution_count": null,
      "outputs": []
    },
    {
      "cell_type": "markdown",
      "source": [
        "* 쉼표( , )는 튜플을 만드는 핵심 요소이고,\n",
        "* 괄호는 선택사항임 (가독성을 위해 쓰는 경우가 많음)"
      ],
      "metadata": {
        "id": "6ZicZmZqz6sR"
      }
    },
    {
      "cell_type": "code",
      "source": [
        "x = 100 ,200\n",
        "print(x, type(x))\n",
        "x = (100, 200)\n",
        "print(x, type(x))"
      ],
      "metadata": {
        "id": "a1CnBSbx028i"
      },
      "execution_count": null,
      "outputs": []
    },
    {
      "cell_type": "code",
      "source": [
        "a ,b = 100, 200\n",
        "a, b = b, a\n",
        "# 오른쪽 b, a는 튜플 (b, a)\n",
        "# 순서대로 a = b, b = a가 되는 게 아니고\n",
        "# 오른쪽 (b, a) 튜플의 첫 번째 값이 a, 두 번째 값이 b에 동시에 할당됨\n",
        "print('a=',a, 'b=',b)"
      ],
      "metadata": {
        "id": "pzD2a3-60HNw"
      },
      "execution_count": null,
      "outputs": []
    },
    {
      "cell_type": "markdown",
      "source": [
        "#18.zip()함수를 사용한 집적화(교재 208 페이지)\n",
        "* 여러 개의 iterable(반복 가능한 객체)를 병렬로 묶어주는 함수\n",
        "  * 반복 가능한 객체 : 리스트, 튜플, 딕셔너리, 집합\n",
        "* 기본 구조\n",
        "  * **zip(iterable1, iterable2, ...)**\n",
        "  * 각 iterable의 동일한 인덱스 요소들을 하나의 튜플로 묶음\n",
        "  * 반환되는 객체는 zip 객체(lazy 객체) → list()로 감싸면 리스트로 볼 수 있음   \n",
        "<img src='https://drive.google.com/uc?id=1CgXG2YMvicnp1Cv1Mjm50gPpHnCcMF2O' width=1000>"
      ],
      "metadata": {
        "id": "_-TLwZ_i2BLe"
      }
    },
    {
      "cell_type": "code",
      "source": [
        "name = ['서울', '부산', '광주']        # 도시 이름\n",
        "population = (9765, 3441, 1501)        # 도시의 인구(단위 : 천명)\n",
        "\n",
        "city_info = list(zip(name, population)) # 집적화한 자료를 리스트 자료형으로 만들기\n",
        "print('city_info=', city_info)"
      ],
      "metadata": {
        "id": "d_DcqYQK6ol9",
        "colab": {
          "base_uri": "https://localhost:8080/"
        },
        "outputId": "3051e9a1-5427-4509-9044-d5ea396154ab"
      },
      "execution_count": null,
      "outputs": [
        {
          "output_type": "stream",
          "name": "stdout",
          "text": [
            "city_info= [('서울', 9765), ('부산', 3441), ('광주', 1501)]\n"
          ]
        }
      ]
    },
    {
      "cell_type": "markdown",
      "source": [
        "# zip()의 반대: unzip\n",
        "* zip()은 여러 iterable을 묶어서 튜플로 반환하는 함수인데, unzip은 묶인 튜플을 다시 개별 요소로 분리하는 것\n",
        "* 기본 구조\n",
        "  * **zip(<font color=\"blue\">*</font>iterable)**\n",
        "  * **<font color=\"blue\">*</font>**는 **언패킹(unpacking)**을 의미하며, 여러 튜플을 분리하여 각각의 원소로 나누는 작업을 함<br><br>\n",
        "  \n",
        "<img src='https://drive.google.com/uc?id=1CmEXoIODTmfdle2HeMZuoMvO9Z60q0me' width=800>"
      ],
      "metadata": {
        "id": "7egGCa8T8PEe"
      }
    },
    {
      "cell_type": "code",
      "source": [
        "city_name, city_pop = zip(*city_info)\n",
        "print('city_name =', city_name)\n",
        "print('city_pop =', city_pop)"
      ],
      "metadata": {
        "id": "kUYV-rQZ-WA6"
      },
      "execution_count": null,
      "outputs": []
    },
    {
      "cell_type": "code",
      "source": [
        "# 인구수의 최대값을 구하고 index() 메서드를 사용하여 이 도시의 이름을 구해서 출력해 보자\n",
        "\n",
        "max_pop = max(city_pop)\n",
        "n = city_pop.index(max_pop)\n",
        "print('최대 인구 도시: {0} 인구: {1} 천명'.format(city_name[n], city_pop[n]))"
      ],
      "metadata": {
        "id": "TtQOOnxE_5h1"
      },
      "execution_count": null,
      "outputs": []
    },
    {
      "cell_type": "markdown",
      "source": [
        "#20.클래스와 객체\n",
        "* 객체지향 프로그래밍 : 다양한 객체들을 클래스로 미리 정의하고,\n",
        "이 객체들이 서로 상호작용하며 프로그램을 구성하고 문제를 해결하는 방식\n",
        "* 클래스 : 객체를 만들기 위한 설계도(틀)이며, 객체가 가져야 할 속성(변수)과 동작(함수)을 정의한 것\n",
        "* 객체 : 클래스로부터 만들어진 개별 대상, 실제 프로그램에서 사용하는 구체적인 실체\n",
        "* 속성 : 객체가 저장하고 있는 값들(변수) -> 클래스 안에서는 self.속성명으로 표현됨\n",
        "* 메서드 : 객체가 할 수 있는 동작(기능) -> 클래스안에서 def로 정의되는 함수\n",
        "\n",
        "<img src='https://drive.google.com/uc?id=1CnmXnujbpp8is0zICO6gtynzwmMG5mKO' width=900>"
      ],
      "metadata": {
        "id": "x1DKWHCOB-ur"
      }
    },
    {
      "cell_type": "markdown",
      "source": [
        "#21.심화문제(교재 213 페이지)\n",
        "\n",
        "\n",
        "\n"
      ],
      "metadata": {
        "id": "cQY1dhIiq4za"
      }
    },
    {
      "cell_type": "markdown",
      "source": [
        "##7.1_ 슬라이싱\n",
        "다음과 같이 파이썬 프로그램을 실행할 적에, 다음 밑줄 안에 들어갈 알맞은 결과는 무엇인가? 미리 예측해본 후 실행시켜보고 그 결과를 적어라.   \n",
        "num_list = [100, 200, 300, 400, 500, 600, 700, 800]   \n",
        "high = 6   \n",
        "low = 3"
      ],
      "metadata": {
        "id": "yauL4CUFNRoB"
      }
    },
    {
      "cell_type": "code",
      "source": [
        "num_list = [100, 200, 300, 400, 500, 600, 700, 800]\n",
        "high = 6\n",
        "low = 3"
      ],
      "metadata": {
        "id": "j2R6_YjXN0QJ"
      },
      "execution_count": null,
      "outputs": []
    },
    {
      "cell_type": "code",
      "source": [
        "num_list[high]"
      ],
      "metadata": {
        "id": "s_gRMEAfOBqV"
      },
      "execution_count": null,
      "outputs": []
    },
    {
      "cell_type": "code",
      "source": [
        "num_list[high-2]"
      ],
      "metadata": {
        "id": "-iroW4UjOGjj"
      },
      "execution_count": null,
      "outputs": []
    },
    {
      "cell_type": "code",
      "source": [
        "num_list[high-low]"
      ],
      "metadata": {
        "id": "vKTTx1OxOMsz"
      },
      "execution_count": null,
      "outputs": []
    },
    {
      "cell_type": "code",
      "source": [
        "num_list[low-high]"
      ],
      "metadata": {
        "id": "v83QYsrBOTO5"
      },
      "execution_count": null,
      "outputs": []
    },
    {
      "cell_type": "code",
      "source": [
        "num_list[-1]"
      ],
      "metadata": {
        "id": "fZ62qCZSOYr6"
      },
      "execution_count": null,
      "outputs": []
    },
    {
      "cell_type": "code",
      "source": [
        "num_list[-low]"
      ],
      "metadata": {
        "id": "JIe5QwjvOdd6"
      },
      "execution_count": null,
      "outputs": []
    },
    {
      "cell_type": "code",
      "source": [
        "num_list[2*3]"
      ],
      "metadata": {
        "id": "WCLHAhtbOhbl"
      },
      "execution_count": null,
      "outputs": []
    },
    {
      "cell_type": "code",
      "source": [
        "num_list[2]*3"
      ],
      "metadata": {
        "id": "Ep_qOGWPOlZH"
      },
      "execution_count": null,
      "outputs": []
    },
    {
      "cell_type": "code",
      "source": [
        "num_list[5%4]"
      ],
      "metadata": {
        "id": "8FEee5yNOzUR"
      },
      "execution_count": null,
      "outputs": []
    },
    {
      "cell_type": "code",
      "source": [
        "len(num_list), min(num_list), max(num_list)"
      ],
      "metadata": {
        "id": "inNTVL_zO4if"
      },
      "execution_count": null,
      "outputs": []
    },
    {
      "cell_type": "code",
      "source": [
        "num_list[:3]"
      ],
      "metadata": {
        "id": "M4KhPiTv19FR"
      },
      "execution_count": null,
      "outputs": []
    },
    {
      "cell_type": "code",
      "source": [
        "num_list[1:5]"
      ],
      "metadata": {
        "id": "HmTrXfll2H0f"
      },
      "execution_count": null,
      "outputs": []
    },
    {
      "cell_type": "code",
      "source": [
        "num_list[-1:-5:-1]"
      ],
      "metadata": {
        "id": "IvloRZXp2K4l"
      },
      "execution_count": null,
      "outputs": []
    },
    {
      "cell_type": "code",
      "source": [
        "num_list[-5:-1:1]"
      ],
      "metadata": {
        "id": "qjQeZ5LF2tkb"
      },
      "execution_count": null,
      "outputs": []
    },
    {
      "cell_type": "markdown",
      "source": [
        "##7.2_ 이중 for 루프(원소의 곱셈)\n",
        "다음과 같은 list1, list2가 있을 경우 이중 for루프를 사용하여 list1과 list2의 각 원소를 곱한 후 원소의 곱셈을 아래와 같이 출력하여라.<br>\n",
        "list1 = [3, 5, 7]<br>\n",
        "list2 = [2, 3, 4, 5, 6]\n",
        "\n",
        "* 출력<br>\n",
        "3 * 2 =  6<br>\n",
        "3 * 3 =  9<br>\n",
        "3 * 4 = 12<br>\n",
        "3 * 5 = 15<br>\n",
        "3 * 6 = 18<br>\n",
        "..."
      ],
      "metadata": {
        "id": "ON1nGsn03GB2"
      }
    },
    {
      "cell_type": "code",
      "source": [
        "list1 = [3, 5, 7]\n",
        "list2 = [2, 3, 4, 5, 6]\n",
        "for i in list1:\n",
        "  for j in list2:\n",
        "    print(f'{i} * {j} = {i*j:2d}')"
      ],
      "metadata": {
        "id": "qH8eYiKQ3gO5"
      },
      "execution_count": null,
      "outputs": []
    },
    {
      "cell_type": "markdown",
      "source": [
        "##7.3_ I like pancakes.\n",
        "다음과 같은 문자열을 가진 두 개의 리스트 list1, list2가 있을 경우 list1과 list2의 모든 조합을 생성하여 다음과 같이 출력하여라.<br>\n",
        "list1 = ['I like', 'I love']<br>\n",
        "list2 = ['pancakes.', 'kiwi juice.', 'espresso.']<br>\n",
        "* 출력<br>\n",
        "I like pancakes.<br>\n",
        "I like kiwi juice.<br>\n",
        "I like espresso.<br>\n",
        "I love pancakes.<br>\n",
        "I love kiwi juice.<br>\n",
        "I love espresso.\n"
      ],
      "metadata": {
        "id": "wiK0PB7O43MY"
      }
    },
    {
      "cell_type": "code",
      "source": [
        "list1 = ['I like', 'I love']\n",
        "list2 = ['pancakes.', 'kiwi juice.', 'espresso.']\n",
        "for i in list1:\n",
        "  for j in list2:\n",
        "    print(i , j)"
      ],
      "metadata": {
        "id": "DYLrvBkB8iHr"
      },
      "execution_count": null,
      "outputs": []
    },
    {
      "cell_type": "markdown",
      "source": [
        "##7.4_ 오류 찾기\n",
        "다음의 코드에서 잘못된 부분은 무엇인가? 어떤 이유에서 오류가 발생하는지 설명하라.\n",
        "\n",
        "```python\n",
        "t = (10, 20, 30, 40)\n",
        "t.append(50)\n",
        "t.remove(40)\n",
        "t[0] = 0\n",
        "```"
      ],
      "metadata": {
        "id": "SC4JHLdc8z1D"
      }
    },
    {
      "cell_type": "code",
      "source": [
        "t = (10, 20, 30, 40)\n",
        "t.append(50)\n",
        "t.remove(40)\n",
        "t[0] = 0"
      ],
      "metadata": {
        "id": "UQMmEqpf9B5m"
      },
      "execution_count": null,
      "outputs": []
    },
    {
      "cell_type": "markdown",
      "source": [
        "##7.5_ 공연장 좌석번호\n",
        "('A', 'B', 'C')튜플과 ('1', '2')을 조합하여 다음과 같은 공연장의 좌석번호를 생성하는 프로그램을 작성하여라. 이 때 ('1', '2') 대신 정수로 이루어진 튜플 (1, 2)가 있을 경우 동일한 결과가 나타나도록 다시 프로그램을 작성하여라. (리스트 함축 사용)\n",
        "<br><br>\n",
        "['A1', 'A2', 'B1', 'B2', 'C1', 'C2']"
      ],
      "metadata": {
        "id": "BNXkSRd19zmU"
      }
    },
    {
      "cell_type": "code",
      "source": [
        "word = ('A', 'B', 'C')\n",
        "number = ('1', '2')\n",
        "for i in word:\n",
        "    for j in number:\n",
        "        print(i+j, end=' ')"
      ],
      "metadata": {
        "id": "yjJvdolzhNaJ"
      },
      "execution_count": null,
      "outputs": []
    },
    {
      "cell_type": "code",
      "source": [
        "# ('1', '2')인 경우\n",
        "word = ('A', 'B', 'C')\n",
        "number = ('1', '2')\n",
        "seats = [x+y for x in word for y in number]\n",
        "print(seats)"
      ],
      "metadata": {
        "id": "vcDp54Dp-6v_"
      },
      "execution_count": null,
      "outputs": []
    },
    {
      "cell_type": "code",
      "source": [
        " # (1, 2)인 경우\n",
        "word = ('A', 'B', 'C')\n",
        "number = ('1', '2')\n",
        "seats = [x+str(y) for x in word for y in number]\n",
        "print(seats)"
      ],
      "metadata": {
        "id": "52ncyNBWAsEB"
      },
      "execution_count": null,
      "outputs": []
    },
    {
      "cell_type": "markdown",
      "source": [
        "##7.6 * _피라미드 패턴 출력\n",
        "사용자로부터 임의의 문자열을 입력으로 받은 후이 문자열에 대하여 다음과 같은 피라미드 패턴을 만들어 출력하는 프로그램을 작성하여라.<br>\n",
        "이 때 파이썬의 ***문자열 슬라이싱*** 기능을 사용하도록 하여라.\n",
        "<br>\n",
        "p   \n",
        "py   \n",
        "pyt   \n",
        "pyth   \n",
        "pytho<br>\n",
        "python   \n",
        "pytho   \n",
        "pyth   \n",
        "pyt   \n",
        "py   \n",
        "p"
      ],
      "metadata": {
        "id": "LL5dFMGUCEUf"
      }
    },
    {
      "cell_type": "markdown",
      "source": [
        "피라미드 설명\n",
        "* 문자열 늘리기<br>\n",
        "  range(1, len(word)+1) : 1부터 문자열 길이까지 반복\n",
        "* 문자열 줄이기<br>\n",
        "  range(-1, -len(word), -1)은 -1, -2, -3, ... 식으로 진행<br>\n",
        "  음수 인덱스는 끝에서부터 자르기\n"
      ],
      "metadata": {
        "id": "EWkp1ro4iOEj"
      }
    },
    {
      "cell_type": "code",
      "source": [
        "word = input('문자열을 입력하세요:')\n",
        "size = len(word)\n",
        "\n",
        "for i in range(1,size+1):\n",
        "  print(word[:i])     # 앞에서부터 점점 증가\n",
        "for i in range(-1, -size, -1):\n",
        "  print(word[:i])     # 뒤에서부터 점점 감소\n",
        "                      # i가 -1(마지막 인덱스)인 경우 -2(마지막 인덱스 전)까지 출력됨 pytho"
      ],
      "metadata": {
        "id": "L8MSM9gdChwW"
      },
      "execution_count": null,
      "outputs": []
    },
    {
      "cell_type": "markdown",
      "source": [
        "##7.7 * _ 긴 문자열 제거\n",
        "fruit_list = ['banana', 'orange', 'kiwi', 'apple', 'melon']라는 리스트가 존재한다.<br>\n",
        "이 리스트에 대하여 다음과 같은 작업을 수행하여라.<br><br>\n",
        "1) 이 fruit_list에서 가장 길이가 긴 문자열을 찾아서 출력하고 이 리스트에서 삭제하라.<br>\n",
        "이 때 동일한 길이의 문자열이 있을 경우 이들을 모두 삭제하라.\n",
        "<br>\n",
        "* 가장 길이가 긴 문자열 : banana, orange\n",
        "<br>\n",
        "* fruit_list = ['kiwi', 'apple', 'melon']\n"
      ],
      "metadata": {
        "id": "79DNqzvQG5gf"
      }
    },
    {
      "cell_type": "markdown",
      "source": [
        "문제설명\n",
        "* 과일 중에서 가장 이름이 긴 과일을 찾아서 리스트에서 제거하기\n",
        "* 같은 길이의 과일이 여러 개 있을 수도 있으므로, 전부 제거해야 함\n",
        "* 리스트에서 값을 제거할 땐 remove() 메서드를 사용\n",
        "<br><br>\n",
        "\n",
        "순서\n",
        "1.   for 반복문 : fruit_list에서 과일 이름을 하나씩 꺼내면서 길이를 비교\n",
        "2.   if 조건문 : 현재까지 본 과일보다 더 긴 이름이 나오면\n",
        "→ 리스트와 최대 길이(max_size)를 새로 갱신\n",
        "3.   elif 조건문 : 현재 과일이 기존 최대 길이와 같다면\n",
        "→ 리스트에 추가\n",
        "4.   for 반복문: 가장 긴 과일 이름들이 저장된 리스트를 돌면서\n",
        "→ fruit_list에서 remove()로 제거"
      ],
      "metadata": {
        "id": "bHoRUSw2OncT"
      }
    },
    {
      "cell_type": "code",
      "source": [
        "fruit_list = ['banana', 'orange', 'kiwi', 'apple', 'melon']\n",
        "max_size = 0\n",
        "max_list = []\n",
        "for fruit in fruit_list:\n",
        "  if len(fruit) > max_size:\n",
        "    max_list = [fruit]            # 현재 과일 이름이 더 길면 max_list를 이 과일 하나로 초기화\n",
        "    max_size = len(fruit)\n",
        "  elif len(fruit) == max_size:\n",
        "    max_list.append(fruit)        # 길이가 같다면 max_list에 추가 (동일 길이 과일이 여럿일 경우)\n",
        "\n",
        "for fruit in max_list:\n",
        "  fruit_list.remove(fruit)        # max_list에 있는 가장 긴 과일 이름들을 fruit_list에서 제거\n",
        "\n",
        "print('fruit_list =', fruit_list)"
      ],
      "metadata": {
        "id": "aJ-t69zcHVxA"
      },
      "execution_count": null,
      "outputs": []
    },
    {
      "cell_type": "code",
      "source": [
        "리스트 컴프리헨션\n",
        "\n",
        "fruit_list = ['banana', 'orange', 'kiwi', 'apple', 'melon']\n",
        "fruit_list = [fruit for fruit in fruit_list if len(fruit) < max(map(len, fruit_list))]\n",
        "\n",
        "# 1 가장 긴 과일의 길이 구하기\n",
        "max_length = max(map(len, fruit_list))  # 각 과일 이름의 길이 중 최댓값\n",
        "# 2 가장 긴 과일만 제외한 새 리스트 만들기\n",
        "filtered = []\n",
        "for fruit in fruit_list:\n",
        "    if len(fruit) < max_length:\n",
        "        filtered.append(fruit)\n",
        "# 3 최종 결과를 다시 fruit_list에 저장\n",
        "fruit_list = filtered\n",
        "print('fruit_list =', fruit_list)"
      ],
      "metadata": {
        "id": "jP6YrIFvINx8"
      },
      "execution_count": null,
      "outputs": []
    },
    {
      "cell_type": "code",
      "source": [],
      "metadata": {
        "id": "fSfPUOLVUxwF"
      },
      "execution_count": null,
      "outputs": []
    },
    {
      "cell_type": "markdown",
      "source": [
        "##7.7_ 문자열의 길이 출력\n",
        "fruit_list = ['banana', 'orange', 'kiwi', 'apple', 'melon']<br><br>\n",
        "2) 이 fruit_list와 for 제어문을 이용하여 다음과 같은 문장을 출력하여라.<br>\n",
        "\n",
        "<img src='https://drive.google.com/uc?id=1ZxB28KFLqpXd6MQMMph3OfKYnQhkfXP-' width=200>"
      ],
      "metadata": {
        "id": "2V1NkIVmZdVV"
      }
    },
    {
      "cell_type": "code",
      "source": [
        "fruit_list = ['banana', 'orange', 'kiwi', 'apple', 'melon']\n",
        "for fruit in fruit_list:\n",
        "  print(f'{fruit:6} : 문자열의 길이 {len(fruit)}')"
      ],
      "metadata": {
        "id": "arfSTE_RaFo8"
      },
      "execution_count": null,
      "outputs": []
    },
    {
      "cell_type": "markdown",
      "source": [
        "##7.8 *_ 뱀행렬(삼항연산자)\n",
        "사용자로부터 숫자 1보다 크고 10보다 작은 값 n을 입력으로 받아서 다음과 같이 뱀의 몸통처럼 증가하는 이차원 배열을 출력하는 뱀행렬을 생성하여라. 이 행렬의 특징은 n이 5일 때 5×5 크기의 2차원 배열을 생성하는데, 이때 홀수 번째 행이 증가하는 방향이 될 경우 짝수 번째 행은 숫자가 감소하는 형태를 가지는 특징이 있다.\n",
        "이 문제를 반드시 for 반복문과 리스트 슬라이싱을 사용하여 풀어보아라.\n",
        "<br><br>\n",
        "<img src='https://drive.google.com/uc?id=1ZyVw7HsbN6sVVxSibFgZWYmfTTnmRcZ5' width=250>\n"
      ],
      "metadata": {
        "id": "PutkogiHbX4Z"
      }
    },
    {
      "cell_type": "code",
      "source": [
        "# 1. 배열의 크기 입력\n",
        "n = int(input('n을 입력하시오 : '))  # 배열의 크기(예:5)\n",
        "\n",
        "# 2. 1부터 n까지의 열 번호 리스트 생성\n",
        "col_numbers = [col + 1 for col in range(n)]   # 예: [1, 2, 3, 4, 5]\n",
        "\n",
        "# 3. 각 행(row)을 반복하며 출력할 숫자를 생성\n",
        "for row in col_numbers:  # row: 현재 행 번호 (1부터 시작)\n",
        "\n",
        "    # 3-1. 출력 방향 결정\n",
        "    if row % 2 == 1:\n",
        "        current_row = col_numbers[::1]   # 홀수 행: 왼쪽 → 오른쪽 [1, 2, 3, 4, 5]\n",
        "    else:\n",
        "        current_row = col_numbers[::-1]  # 짝수 행: 오른쪽 → 왼쪽 (역순) [5, 4, 3, 2, 1]\n",
        "\n",
        "    # 3-2. 행 번호와 열 번호를 조합하여 실제 숫자 계산 후 출력\n",
        "    for col in current_row:             # [1, 2, 3, 4, 5] 또는 [5, 4, 3, 2, 1]\n",
        "        # 출력 숫자 계산: (행 번호 - 1) * 가로 길이 + 열 번호\n",
        "        cell_number = (row - 1) * n + col\n",
        "        print(f\"{cell_number:3d}\", end=' ')\n",
        "\n",
        "    print()  # 줄바꿈"
      ],
      "metadata": {
        "id": "4rOh4pvVeI20"
      },
      "execution_count": null,
      "outputs": []
    },
    {
      "cell_type": "markdown",
      "source": [
        "뱀행렬 코드 중 if문을 삼항 연산자로 바꾸면\n",
        "\n",
        "```python\n",
        "    # 3-1. 출력 방향 결정\n",
        "    if row % 2 == 1:\n",
        "        current_row = col_numbers[::1]\n",
        "    else:\n",
        "        current_row = col_numbers[::-1]\n",
        "\n",
        "    # 삼항 연산자\n",
        "    current_row = col_numbers[::1] if row % 2 == 1 else col_numbers[::-1]\n",
        "```"
      ],
      "metadata": {
        "id": "5jxHg34Asw4n"
      }
    },
    {
      "cell_type": "code",
      "source": [
        "# 1. 배열의 크기 입력\n",
        "n = int(input('n을 입력하시오 : '))  # 배열의 크기(예:5)\n",
        "\n",
        "# 2. 1부터 n까지의 열 번호 리스트 생성\n",
        "col_numbers = [col + 1 for col in range(n)]   # 예: [1, 2, 3, 4, 5]\n",
        "\n",
        "# 3. 각 행(row)을 반복하며 출력할 숫자를 생성\n",
        "for row in col_numbers:  # row: 현재 행 번호 (1부터 시작)\n",
        "\n",
        "    # 3-1. 출력 방향 결정(삼항 연산자)\n",
        "    current_row = col_numbers[::1] if row % 2 == 1 else col_numbers[::-1]\n",
        "\n",
        "    # 3-2. 행 번호와 열 번호를 조합하여 실제 숫자 계산 후 출력\n",
        "    for col in current_row:             # [1, 2, 3, 4, 5] 또는 [5, 4, 3, 2, 1]\n",
        "        # 출력 숫자 계산: (행 번호 - 1) * 가로 길이 + 열 번호\n",
        "        cell_number = (row - 1) * n + col\n",
        "        print(f\"{cell_number:3d}\", end=' ')\n",
        "\n",
        "    print()  # 줄바꿈"
      ],
      "metadata": {
        "id": "ywEhBTfrtVPh"
      },
      "execution_count": null,
      "outputs": []
    },
    {
      "cell_type": "markdown",
      "source": [
        "##7.9 *_ 문자열 겹치기\n",
        "사용자로부터 두 문자열 A, B를 입력으로 받도록 하자. 그리고 A의 뒷부분과 B의 앞부분을 가장 길게 일치시켜 둘을 겹치게 만든 새로운 문자열 C를 만드는 프로그램을 작성하라. 만약 A의 뒷부분과 B의 앞부분이 다르면 B를 A 뒤에 바로 붙여야 한다. 다음 예시를 참고하여라. 이를 위하여 C=overlap(A, B)와 같이 A, B를 인자로 받아 C를 반환하는 함수 overlap()를 구현하여라.<br>\n",
        "<img src='https://drive.google.com/uc?id=1_9Lzz6sulzoEsXbTxnwX5SI4VmRisFRJ' width=400>"
      ],
      "metadata": {
        "id": "oiAS3GmIuNUG"
      }
    },
    {
      "cell_type": "markdown",
      "source": [
        "### 생각해 보기\n",
        "- 단순히 문자열을 붙이면 어떤 문제가 생길까요?\n",
        "- 겹치는 부분을 어떻게 찾을 수 있을까요?\n",
        "- 문자열의 어떤 부분을 비교해야 할까요?\n",
        "- 반복문과 슬라이싱을 어떻게 활용할 수 있을까요?"
      ],
      "metadata": {
        "id": "YiOsFYTrXRKY"
      }
    },
    {
      "cell_type": "code",
      "source": [
        "def overlap(word1, word2):\n",
        "  length = min(len(word1), len(word2))\n",
        "  for i in range(length):\n",
        "    if word1[-(length-i):] == word2[:length-i]:\n",
        "      return word1 + word2[length-i:]\n",
        "  return word1+word2\n",
        "\n",
        "word1 = input('첫번째 단어을 입력하세요:')\n",
        "word2 = input('두번째 단어을 입력하세요:')\n",
        "print(f'{word1} + {word2} = {overlap(word1, word2)}')"
      ],
      "metadata": {
        "id": "iMQ22yXgx9bB"
      },
      "execution_count": null,
      "outputs": []
    },
    {
      "cell_type": "code",
      "source": [
        "[(fruits:=['banana','orange','grape']).insert(2,\"apple\"),print(fruits)]"
      ],
      "metadata": {
        "id": "b_QSXJt9Kd5j"
      },
      "execution_count": null,
      "outputs": []
    }
  ]
}